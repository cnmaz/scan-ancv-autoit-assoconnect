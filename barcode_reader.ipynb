{
 "cells": [
  {
   "cell_type": "markdown",
   "metadata": {},
   "source": [
    "# Coche d'un chèque dans \"Remise en banque\""
   ]
  },
  {
   "cell_type": "markdown",
   "metadata": {},
   "source": []
  },
  {
   "cell_type": "code",
   "execution_count": null,
   "metadata": {},
   "outputs": [],
   "source": [
    "port = \"COM4\"\n",
    "import serial\n",
    "import os\n",
    "\n",
    "\n",
    "def read_code():\n",
    "    code = \"\"\n",
    "    car = ''\n",
    "    with serial.Serial(port) as ser:\n",
    "        while car != b'\\r':\n",
    "            car = ser.read()\n",
    "            code = code + car.decode('utf-8')\n",
    "        return code\n",
    "\n",
    "\n",
    "def read_and_select_code():\n",
    "    code = read_code().strip()\n",
    "    if code == 'STOP':\n",
    "        return code\n",
    "    code_sans_annee=code[:-4]\n",
    "    code_final=code_sans_annee[-9:]\n",
    "    print(f\"{code} → {code_final}\")\n",
    "    os.system(f\"select_cheque.exe {code_final}\")\n",
    "    return code_final\n",
    "\n",
    "\n",
    "while read_and_select_code() != 'STOP':\n",
    "    pass\n"
   ]
  },
  {
   "cell_type": "markdown",
   "metadata": {},
   "source": [
    "# Saisie d'un cheque ANCV\n",
    "Scanner le code du montant (cf plus bas).\n",
    "\n",
    "Se placer sur la transaction, liste des paiement déjà ouvert.\n",
    "\n",
    "Scanner le chèque, attendre sa saisie. Rescanner le chèque pour valider ou le code \"STOP\" (cf plus bas). Si STOP → il faut nettoyer la saisie (supprimer le chèque en cours de saisie, et fermer la saisie en cours)."
   ]
  },
  {
   "cell_type": "markdown",
   "metadata": {},
   "source": [
    "| ![Stop](./stop.png) | ****************** ![10€](./M10.png) | ****************** ![20€](./M20.png) | ****************** ![50€](./M50.png) |\n",
    "|--|--|--|--|\n",
    "|Stop|10€|20€|50€|"
   ]
  },
  {
   "cell_type": "code",
   "execution_count": null,
   "metadata": {},
   "outputs": [],
   "source": [
    "port = \"COM4\"\n",
    "montant = 10\n",
    "import serial\n",
    "import os\n",
    "\n",
    "def read_code():\n",
    "    code = \"\"\n",
    "    car = ''\n",
    "    with serial.Serial(port) as ser:\n",
    "        while car != b'\\r':\n",
    "            car = ser.read()\n",
    "            code = code + car.decode('utf-8')\n",
    "        return code\n",
    "\n",
    "\n",
    "def read_and_select_code():\n",
    "    code = read_code().strip()\n",
    "    if code == 'STOP':\n",
    "        return code\n",
    "    if code.startswith('M'):\n",
    "        new_montant = int(code[1:])\n",
    "        globals()['montant'] = new_montant\n",
    "        print(f\"Montant: {new_montant} €\")\n",
    "        return code\n",
    "    code_sans_annee=code[:-4]\n",
    "    code_final=code_sans_annee[-9:]\n",
    "    print(f\"{code_final}\", end=None)\n",
    "    os.system(f\"auto_saisie_ancv.exe {montant} {code_final}\")\n",
    "    # Validation\n",
    "    code_validation = read_code().strip()\n",
    "    if code_validation == 'STOP':\n",
    "        return code_validation\n",
    "    if code == code_validation:\n",
    "        code_sans_annee=code_validation[:-4]\n",
    "        code_final=code_sans_annee[-9:]\n",
    "        print(f\"✅\")\n",
    "        os.system(f\"auto_saisie_ancv.exe {montant} {code_final} --confirm\")\n",
    "    return code_final\n",
    "\n",
    "\n",
    "\n",
    "while read_and_select_code() != 'STOP':\n",
    "    pass"
   ]
  },
  {
   "cell_type": "code",
   "execution_count": null,
   "metadata": {},
   "outputs": [],
   "source": [
    "import qrcode\n",
    "map={\"continuous\":\"S_CMD_020E\", \"auto-sensing\":\"S_CMD_020F\",\"trigger\":\"S_CMD_MT00\"}\n",
    "for i, k in map.items():\n",
    "    img = qrcode.make(k)\n",
    "    img.save(f\"{i}.png\")"
   ]
  },
  {
   "cell_type": "markdown",
   "metadata": {},
   "source": [
    "# Code barres spéciaux de configuration du lecteur de code barre"
   ]
  },
  {
   "cell_type": "markdown",
   "metadata": {},
   "source": [
    "|Continuous|Anto-sensing|Trigger|\n",
    "|--|--|--|\n",
    "| ![Continuous](./continuous.png) | ************************ ![Continuous](./auto-sensing.png) | ************************ ![Continuous](./trigger.png) |"
   ]
  }
 ],
 "metadata": {
  "interpreter": {
   "hash": "369f2c481f4da34e4445cda3fffd2e751bd1c4d706f27375911949ba6bb62e1c"
  },
  "kernelspec": {
   "display_name": "Python 3.10.5 64-bit",
   "language": "python",
   "name": "python3"
  },
  "language_info": {
   "codemirror_mode": {
    "name": "ipython",
    "version": 3
   },
   "file_extension": ".py",
   "mimetype": "text/x-python",
   "name": "python",
   "nbconvert_exporter": "python",
   "pygments_lexer": "ipython3",
   "version": "3.10.5"
  },
  "orig_nbformat": 4
 },
 "nbformat": 4,
 "nbformat_minor": 2
}
