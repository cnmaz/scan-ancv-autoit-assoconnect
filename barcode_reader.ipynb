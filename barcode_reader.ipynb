{
 "cells": [
  {
   "cell_type": "markdown",
   "metadata": {},
   "source": [
    "| ![Stop](./stop.png) | ****************** ![10€](./M10.png) | ****************** ![20€](./M20.png) | ****************** ![50€](./M50.png) |\n",
    "|--|--|--|--|\n",
    "|Stop|10€|20€|50€|"
   ]
  },
  {
   "cell_type": "markdown",
   "metadata": {},
   "source": [
    "# Coche d'un chèque dans \"Remise en banque\""
   ]
  },
  {
   "cell_type": "code",
   "execution_count": null,
   "metadata": {},
   "outputs": [],
   "source": [
    "port = \"COM6\"\n",
    "import serial\n",
    "import os\n",
    "\n",
    "\n",
    "def read_code():\n",
    "    code = \"\"\n",
    "    car = ''\n",
    "    with serial.Serial(port) as ser:\n",
    "        while car != b'\\r':\n",
    "            car = ser.read()\n",
    "            code = code + car.decode('utf-8')\n",
    "        return code\n",
    "\n",
    "\n",
    "def read_and_select_code():\n",
    "    code = read_code().strip()\n",
    "    if code == 'STOP':\n",
    "        return code\n",
    "    code_sans_annee=code[:-4]\n",
    "    code_final=code_sans_annee[-9:]\n",
    "    print(f\"{code} → {code_final}\")\n",
    "    os.system(f\"select_cheque.exe {code_final}\")\n",
    "    return code_final\n",
    "\n",
    "\n",
    "while read_and_select_code() != 'STOP':\n",
    "    pass\n"
   ]
  },
  {
   "cell_type": "markdown",
   "metadata": {},
   "source": [
    "# Saisie d'un cheque ANCV\n",
    "Changer le montant dans le script\n",
    "\n",
    "Se placer sur le date picker ouvert et scanner le cheque\n"
   ]
  },
  {
   "cell_type": "code",
   "execution_count": 1,
   "metadata": {},
   "outputs": [
    {
     "name": "stdout",
     "output_type": "stream",
     "text": [
      "Montant: 20 €\n",
      "0324876472021 → 032487647\n",
      "0324876462021 → 032487646\n",
      "0324876482021 → 032487648\n",
      "0324876492021 → 032487649\n"
     ]
    }
   ],
   "source": [
    "port = \"COM6\"\n",
    "montant = 10\n",
    "import serial\n",
    "import os\n",
    "\n",
    "def read_code():\n",
    "    code = \"\"\n",
    "    car = ''\n",
    "    with serial.Serial(port) as ser:\n",
    "        while car != b'\\r':\n",
    "            car = ser.read()\n",
    "            code = code + car.decode('utf-8')\n",
    "        return code\n",
    "\n",
    "\n",
    "def read_and_select_code():\n",
    "    code = read_code().strip()\n",
    "    if code == 'STOP':\n",
    "        return code\n",
    "    if code.startswith('M'):\n",
    "        new_montant = int(code[1:])\n",
    "        globals()['montant'] = new_montant\n",
    "        print(f\"Montant: {new_montant} €\")\n",
    "        return code\n",
    "    code_sans_annee=code[:-4]\n",
    "    code_final=code_sans_annee[-9:]\n",
    "    print(f\"{code} → {code_final}\")\n",
    "    os.system(f\"auto_saisie_ancv.exe {montant} {code_final}\")\n",
    "    return code_final\n",
    "\n",
    "\n",
    "\n",
    "while read_and_select_code() != 'STOP':\n",
    "    pass"
   ]
  }
 ],
 "metadata": {
  "interpreter": {
   "hash": "63fd5069d213b44bf678585dea6b12cceca9941eaf7f819626cde1f2670de90d"
  },
  "kernelspec": {
   "display_name": "Python 3.9.4 64-bit",
   "name": "python3"
  },
  "language_info": {
   "codemirror_mode": {
    "name": "ipython",
    "version": 3
   },
   "file_extension": ".py",
   "mimetype": "text/x-python",
   "name": "python",
   "nbconvert_exporter": "python",
   "pygments_lexer": "ipython3",
   "version": "3.9.4"
  },
  "orig_nbformat": 4
 },
 "nbformat": 4,
 "nbformat_minor": 2
}
