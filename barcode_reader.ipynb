{
 "cells": [
  {
   "cell_type": "markdown",
   "metadata": {},
   "source": [
    "# Coche d'un chèque dans \"Remise en banque\""
   ]
  },
  {
   "cell_type": "markdown",
   "metadata": {},
   "source": []
  },
  {
   "cell_type": "code",
   "execution_count": null,
   "metadata": {},
   "outputs": [],
   "source": [
    "port = \"COM4\"\n",
    "import serial\n",
    "import os\n",
    "\n",
    "\n",
    "def read_code():\n",
    "    code = \"\"\n",
    "    car = ''\n",
    "    with serial.Serial(port) as ser:\n",
    "        while car != b'\\r':\n",
    "            car = ser.read()\n",
    "            code = code + car.decode('utf-8')\n",
    "        return code\n",
    "\n",
    "\n",
    "def read_and_select_code():\n",
    "    code = read_code().strip()\n",
    "    if code == 'STOP':\n",
    "        return code\n",
    "    code_sans_annee=code[:-4]\n",
    "    code_final=code_sans_annee[-9:]\n",
    "    print(f\"{code} → {code_final}\")\n",
    "    os.system(f\"select_cheque.exe {code_final}\")\n",
    "    return code_final\n",
    "\n",
    "\n",
    "while read_and_select_code() != 'STOP':\n",
    "    pass\n"
   ]
  },
  {
   "cell_type": "markdown",
   "metadata": {},
   "source": [
    "# Saisie d'un cheque ANCV\n",
    "Scanner le code du montant (cf plus bas).\n",
    "\n",
    "Se placer sur la transaction, liste des paiement déjà ouvert.\n",
    "\n",
    "Scanner le chèque, attendre sa saisie. Rescanner le chèque pour valider ou le code \"STOP\" (cf plus bas). Si STOP → il faut nettoyer la saisie (supprimer le chèque en cours de saisie, et fermer la saisie en cours)."
   ]
  },
  {
   "cell_type": "markdown",
   "metadata": {},
   "source": [
    "| ![Stop](./stop.png) | ****************** ![10€](./M10.png) | ****************** ![20€](./M20.png) | ****************** ![50€](./M50.png) |\n",
    "|--|--|--|--|\n",
    "|Stop|10€|20€|50€|"
   ]
  },
  {
   "cell_type": "code",
   "execution_count": null,
   "metadata": {},
   "outputs": [],
   "source": [
    "port = \"COM4\"\n",
    "montant = 10\n",
    "import serial\n",
    "import os\n",
    "\n",
    "def read_code():\n",
    "    code = \"\"\n",
    "    car = ''\n",
    "    with serial.Serial(port) as ser:\n",
    "        while car != b'\\r':\n",
    "            car = ser.read()\n",
    "            code = code + car.decode('utf-8')\n",
    "        return code\n",
    "\n",
    "\n",
    "def read_and_select_code():\n",
    "    code = read_code().strip()\n",
    "    if code == 'STOP':\n",
    "        return code\n",
    "    if code.startswith('M'):\n",
    "        new_montant = int(code[1:])\n",
    "        globals()['montant'] = new_montant\n",
    "        print(f\"Montant: {new_montant} €\")\n",
    "        return code\n",
    "    code_sans_annee=code[:-4]\n",
    "    code_final=code_sans_annee[-9:]\n",
    "    print(f\"{code_final}\", end=None)\n",
    "    os.system(f\"auto_saisie_ancv.exe {montant} {code_final}\")\n",
    "    # Validation\n",
    "    code_validation = read_code().strip()\n",
    "    if code_validation == 'STOP':\n",
    "        return code_validation\n",
    "    if code == code_validation:\n",
    "        code_sans_annee=code_validation[:-4]\n",
    "        code_final=code_sans_annee[-9:]\n",
    "        print(f\"✅\")\n",
    "        os.system(f\"auto_saisie_ancv.exe {montant} {code_final} --confirm\")\n",
    "    return code_final\n",
    "\n",
    "\n",
    "\n",
    "while read_and_select_code() != 'STOP':\n",
    "    pass"
   ]
  },
  {
   "cell_type": "code",
   "execution_count": null,
   "metadata": {},
   "outputs": [],
   "source": [
    "import qrcode\n",
    "map={\"continuous\":\"S_CMD_020E\", \"auto-sensing\":\"S_CMD_020F\",\"trigger\":\"S_CMD_MT00\"}\n",
    "for i, k in map.items():\n",
    "    img = qrcode.make(k)\n",
    "    img.save(f\"{i}.png\")"
   ]
  },
  {
   "cell_type": "markdown",
   "metadata": {},
   "source": [
    "# Code barres spéciaux de configuration du lecteur de code barre"
   ]
  },
  {
   "cell_type": "markdown",
   "metadata": {},
   "source": [
    "|Continuous|Anto-sensing|Trigger|\n",
    "|--|--|--|\n",
    "| ![Continuous](./continuous.png) | ************************ ![Continuous](./auto-sensing.png) | ************************ ![Continuous](./trigger.png) |"
   ]
  },
  {
   "cell_type": "markdown",
   "metadata": {},
   "source": [
    "# Saisie groupée"
   ]
  },
  {
   "cell_type": "code",
   "execution_count": null,
   "metadata": {},
   "outputs": [],
   "source": [
    "import qrcode\n",
    "map={\"stop\":\"STOP\", \"reset\":\"XRESTE\", \"go\":\"XGO\", \"retry\":\"XRETRY\", \"M10\":\"M10\",\"M20\":\"M20\",\"M50\":\"M50\"}\n",
    "for i, k in map.items():\n",
    "    img = qrcode.make(k)\n",
    "    img.save(f\"{i}.png\")"
   ]
  },
  {
   "cell_type": "markdown",
   "metadata": {},
   "source": [
    "| ![Stop](./stop.png) | ****************** ![10€](./M10.png) | ****************** ![20€](./M20.png) | ****************** ![50€](./M50.png) | \n",
    "|--|--|--|--|\n",
    "|Stop|10€|20€|50€|\n",
    "|******************|******************|******************|******************|******************|\n",
    "||****************** ![GO](./go.png) |****************** ![RESET](./reset.png) | ****************** ![RETRY](./retry.png) |\n",
    "||GO|RESET|RETRY|"
   ]
  },
  {
   "cell_type": "code",
   "execution_count": null,
   "metadata": {},
   "outputs": [],
   "source": []
  },
  {
   "cell_type": "code",
   "execution_count": null,
   "metadata": {},
   "outputs": [],
   "source": [
    "port = \"COM4\"\n",
    "montant = 10\n",
    "import serial\n",
    "import os\n",
    "\n",
    "def read_code():\n",
    "    code = \"\"\n",
    "    car = ''\n",
    "    with serial.Serial(port) as ser:\n",
    "        while car != b'\\r':\n",
    "            car = ser.read()\n",
    "            code = code + car.decode('utf-8')\n",
    "        return code\n",
    "\n",
    "def write(code,amount):\n",
    "    # print(f\"Cheque {code} {amount}€\")\n",
    "    os.system(f\"auto_saisie_ancv.exe {amount} {code}\")\n",
    "    # code_validation = read_code().strip()\n",
    "    # if (code_validation == 'STOP'):\n",
    "    #     # print(\"STOP\")\n",
    "    #     return code_validation\n",
    "    # elif (code_validation == \"XGO\"):\n",
    "    #     # print(\"OK\")\n",
    "    #     os.system(f\"auto_saisie_ancv.exe {amount} {code} --confirm\")\n",
    "    #     # code_validation = read_code().strip()\n",
    "    #     # if (code_validation == 'STOP'):\n",
    "    #     #     print(\"OK\")\n",
    "    #     #     return code_validation\n",
    "    #     # else:\n",
    "    #     #     return code_validation\n",
    "    # else:\n",
    "    #     write(code,amount)\n",
    "codes={}\n",
    "def read_and_select_code_grouped():\n",
    "    if globals()['codes']==None:\n",
    "        globals()['codes']={}\n",
    "    code = read_code().strip()\n",
    "    if code == 'STOP':\n",
    "        return code\n",
    "    if code.startswith('M'):\n",
    "        new_montant = int(code[1:])\n",
    "        globals()['montant'] = new_montant\n",
    "        print(f\"  --> Montant: {new_montant} €\")\n",
    "        return code\n",
    "    elif code.startswith('X'):\n",
    "        if code==\"XRESET\" or code=='XRESTE':\n",
    "            globals()['codes']={}\n",
    "            print(f\"Reset {len(globals()['codes'])} chèque{'s' if len(globals()['codes']) > 1 else ''}\")\n",
    "        elif code==\"XGO\":\n",
    "            print(f\"Go pour {len(globals()['codes'])} chèque{'s' if len(globals()['codes']) > 1 else ''}\")\n",
    "            for code, amount in globals()['codes'].items():\n",
    "                ret = write(code, amount)\n",
    "                if ret == \"STOP\":\n",
    "                    return ret\n",
    "            print(\"Done\")\n",
    "            globals()['codes'] = {}\n",
    "    else:\n",
    "        code_sans_annee=code[:-4]\n",
    "        code=code_sans_annee[-9:]\n",
    "        globals()['codes'][code] = montant\n",
    "        print(f\"{code} {montant}€ Total : {sum(globals()['codes'].values())}€ {len(globals()['codes'])} chèque{'s' if len(globals()['codes']) > 1 else ''}\")\n",
    "        #os.system(f\"auto_saisie_ancv.exe {montant} {code}\")\n",
    "        # Validation\n",
    "        #os.system(f\"auto_saisie_ancv.exe {montant} {code} --confirm\")\n",
    "    return code\n",
    "\n",
    "\n",
    "while read_and_select_code_grouped() != 'STOP':\n",
    "    pass"
   ]
  }
 ],
 "metadata": {
  "interpreter": {
   "hash": "369f2c481f4da34e4445cda3fffd2e751bd1c4d706f27375911949ba6bb62e1c"
  },
  "kernelspec": {
   "display_name": "Python 3.10.5 64-bit",
   "language": "python",
   "name": "python3"
  },
  "language_info": {
   "codemirror_mode": {
    "name": "ipython",
    "version": 3
   },
   "file_extension": ".py",
   "mimetype": "text/x-python",
   "name": "python",
   "nbconvert_exporter": "python",
   "pygments_lexer": "ipython3",
   "version": "3.10.5"
  },
  "orig_nbformat": 4
 },
 "nbformat": 4,
 "nbformat_minor": 2
}
